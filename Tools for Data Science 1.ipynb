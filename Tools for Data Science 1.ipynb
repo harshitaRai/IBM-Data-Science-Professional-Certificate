{
 "cells": [
  {
   "cell_type": "markdown",
   "id": "1709f97c-57c2-4f42-b9fe-c462ec818c46",
   "metadata": {},
   "source": [
    "# My Jupyter Notebook on IBM Watson Studio"
   ]
  },
  {
   "cell_type": "markdown",
   "id": "e84dc324-0486-4800-8d74-f9897afe6116",
   "metadata": {},
   "source": [
    "**Harshita Rai**<br>\n",
    "Developer"
   ]
  },
  {
   "cell_type": "markdown",
   "id": "9d036581-b95b-4438-bb75-6c468806eefb",
   "metadata": {},
   "source": [
    "*I am interested in data science because we get to work on real life problems and provide solutions to improve day to day life of people*"
   ]
  },
  {
   "cell_type": "markdown",
   "id": "358291bb-cb46-47cb-9059-f598b0ff84c0",
   "metadata": {},
   "source": [
    "### Code in cell 5 is to add two numbers are return the result "
   ]
  },
  {
   "cell_type": "code",
   "execution_count": 1,
   "id": "be2ccfd4-baac-4180-b93a-2ccbd7b1a7f9",
   "metadata": {},
   "outputs": [
    {
     "data": {
      "text/plain": [
       "2"
      ]
     },
     "execution_count": 1,
     "metadata": {},
     "output_type": "execute_result"
    }
   ],
   "source": [
    "1+1"
   ]
  },
  {
   "cell_type": "markdown",
   "id": "7f41c7ec-963e-4be2-8770-d37dc865cc65",
   "metadata": {},
   "source": [
    "\n",
    "Hyperlink : \n",
    "<br>[link text](https://www.google.co.in/)<br>\n",
    "Numbered List : <br>\n",
    "1.   list item 1\n",
    "2.   list item 2\n",
    "\n",
    "Bullet List : <br>\n",
    "*   List item 1\n",
    "*   List item 2<br>\n"
   ]
  },
  {
   "cell_type": "code",
   "execution_count": null,
   "id": "ce582cef-af44-48dc-9db5-5a674fcad727",
   "metadata": {},
   "outputs": [],
   "source": []
  }
 ],
 "metadata": {
  "kernelspec": {
   "display_name": "Python",
   "language": "python",
   "name": "conda-env-python-py"
  },
  "language_info": {
   "codemirror_mode": {
    "name": "ipython",
    "version": 3
   },
   "file_extension": ".py",
   "mimetype": "text/x-python",
   "name": "python",
   "nbconvert_exporter": "python",
   "pygments_lexer": "ipython3",
   "version": "3.7.12"
  }
 },
 "nbformat": 4,
 "nbformat_minor": 5
}
